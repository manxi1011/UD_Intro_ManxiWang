{
 "cells": [
  {
   "cell_type": "code",
   "execution_count": 1,
   "id": "1ed87483",
   "metadata": {},
   "outputs": [
    {
     "ename": "SyntaxError",
     "evalue": "EOL while scanning string literal (1006468217.py, line 3)",
     "output_type": "error",
     "traceback": [
      "\u001b[1;36m  Cell \u001b[1;32mIn[1], line 3\u001b[1;36m\u001b[0m\n\u001b[1;33m    driver.get(\"https://www.archdaily.com')\u001b[0m\n\u001b[1;37m                                           ^\u001b[0m\n\u001b[1;31mSyntaxError\u001b[0m\u001b[1;31m:\u001b[0m EOL while scanning string literal\n"
     ]
    }
   ],
   "source": [
    "service = Chromeservice(executable_path=r\"chromedriver\\chromedriver.exe\")\n",
    "driver = webdriver. Chrome (service=service)\n",
    "driver.get(\"https://www.archdaily.com')\n",
    "driver.implicitly_wait(10)\n",
    "# driver.maximize_window() #DON'T RUN THIS !!!!\n",
    "input_tag = driver.find_element (By.ХРАТн, '//*[Qid=\"afd-search-actions-mobile\"']/div/input') \n",
    "input_tag.send_keys('tiny house') \n",
    "input_tag. send_keys (Keys. ENTER)"
   ]
  },
  {
   "cell_type": "code",
   "execution_count": null,
   "id": "812f7719",
   "metadata": {},
   "outputs": [],
   "source": []
  }
 ],
 "metadata": {
  "kernelspec": {
   "display_name": "Python 3 (ipykernel)",
   "language": "python",
   "name": "python3"
  },
  "language_info": {
   "codemirror_mode": {
    "name": "ipython",
    "version": 3
   },
   "file_extension": ".py",
   "mimetype": "text/x-python",
   "name": "python",
   "nbconvert_exporter": "python",
   "pygments_lexer": "ipython3",
   "version": "3.8.18"
  }
 },
 "nbformat": 4,
 "nbformat_minor": 5
}
