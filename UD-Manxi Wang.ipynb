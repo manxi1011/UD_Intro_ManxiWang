{
 "cells": [
  {
   "cell_type": "markdown",
   "metadata": {},
   "source": [
    "# Exercise 00\n",
    "Write a bit of code that prints _Introduction to Programming_ to the console and execute the cell"
   ]
  },
  {
   "cell_type": "code",
   "execution_count": 1,
   "metadata": {},
   "outputs": [
    {
     "name": "stdout",
     "output_type": "stream",
     "text": [
      "Introduction to Programming\n"
     ]
    }
   ],
   "source": [
    "print ('Introduction to Programming')"
   ]
  },
  {
   "cell_type": "markdown",
   "metadata": {},
   "source": [
    "-----------------------------------------------------------------------------\n",
    "# Exercise 01\n",
    "Hello World is traditionally the first program anyone writes. It is\n",
    "very simple and the only thing it should do is print Hello World! to the\n",
    "terminal window.\n",
    "Create a file called HelloWorld.py and edit the contents so it prints Hello World! to the terminal and execute it using the command line."
   ]
  },
  {
   "cell_type": "markdown",
   "metadata": {},
   "source": [
    "-----------------------------------------------------------------------------\n",
    "# Exercise 02\n",
    "Write some code to print your name, email, and age on separate lines. For each element first assign it to a variable and use the variable to print. \n",
    "\n",
    "Bonus: try to create the print statement for all variable in one line of code. (hint: '\\n' is the character for a new line)"
   ]
  },
  {
   "cell_type": "code",
   "execution_count": 4,
   "metadata": {},
   "outputs": [
    {
     "name": "stdout",
     "output_type": "stream",
     "text": [
      "Manxi Wang\n",
      "ucbvmw2@ucl.ac.uk\n",
      "24\n"
     ]
    }
   ],
   "source": [
    "a='Manxi Wang'\n",
    "b='ucbvmw2@ucl.ac.uk'\n",
    "c='24'\n",
    "print(a)\n",
    "print(b)\n",
    "print(c)"
   ]
  },
  {
   "cell_type": "markdown",
   "metadata": {},
   "source": [
    "-----------------------------------------------------------------------------\n",
    "# Exercise 03\n",
    "Print the numbers 0, 178, -21, 2938 divided by 49, 436 multiplied with 9948 and 12 to the power of 20\n",
    "\n",
    "(Hint: Look up the documentation of basic arithmetic operators)"
   ]
  },
  {
   "cell_type": "code",
   "execution_count": 13,
   "metadata": {},
   "outputs": [
    {
     "name": "stdout",
     "output_type": "stream",
     "text": [
      "0 178 -21 59.95918367346939 4337328 3833759992447475122176\n"
     ]
    }
   ],
   "source": [
    "print(0, 178, -21, 2938/49, 436*9948, 12**20)"
   ]
  },
  {
   "cell_type": "markdown",
   "metadata": {},
   "source": [
    "-----------------------------------------------------------------------------\n",
    "# Exercise 04\n",
    "Print sin(200), cos(100), tan($\\pi$/4)\n",
    "\n",
    "(Hint: Look up for how to use trigonometric function, and how to get the value of $\\pi$.)"
   ]
  },
  {
   "cell_type": "code",
   "execution_count": 2,
   "metadata": {
    "scrolled": true
   },
   "outputs": [
    {
     "name": "stdout",
     "output_type": "stream",
     "text": [
      "-0.8732972972139946\n",
      "0.8623188722876839\n",
      "0.9999999999999999\n"
     ]
    }
   ],
   "source": [
    "import math\n",
    "pai=math.pi\n",
    "print(math.sin(200))\n",
    "print(math.cos(100))\n",
    "print(math.tan(pai/4))"
   ]
  },
  {
   "cell_type": "markdown",
   "metadata": {},
   "source": [
    "-----------------------------------------------------------------------------\n",
    "# Exercise 05\n",
    "Write a program to read your first and last names from the console seperately, and then print them on the console together, separated by a space."
   ]
  },
  {
   "cell_type": "code",
   "execution_count": 3,
   "metadata": {},
   "outputs": [
    {
     "name": "stdout",
     "output_type": "stream",
     "text": [
      "Manxi Wang\n"
     ]
    }
   ],
   "source": [
    "a='Manxi'\n",
    "b='Wang'\n",
    "print(a+\" \"+b)"
   ]
  },
  {
   "cell_type": "markdown",
   "metadata": {},
   "source": [
    "-----------------------------------------------------------------------------\n",
    "# Exercise 06\n",
    "Write a program that determines whether a number given as user input is positive or negative\n",
    " \n",
    "You will need to convert the console input from a string to a number first!"
   ]
  },
  {
   "cell_type": "code",
   "execution_count": null,
   "metadata": {},
   "outputs": [],
   "source": [
    "user_input = input()\n",
    "identify_num=float(user_input)\n",
    "\n",
    "if identify_num>=0:\n",
    "    print('The given number is positive')\n",
    "else :\n",
    "    print('The given number is negative')"
   ]
  },
  {
   "cell_type": "markdown",
   "metadata": {},
   "source": [
    "-----------------------------------------------------------------------------\n",
    "# Exercise 07\n",
    "Write a program that picks a random number between 1-20 and makes the user guess until they get the number right. Then print a congratulations message\n",
    "- (Find out yourself how to generate a random integer)\n",
    "- Bonus: make the user choose the range within which they have to guess\n",
    "- Bonus: keep track of how many guesses were made and print this at the end"
   ]
  },
  {
   "cell_type": "code",
   "execution_count": null,
   "metadata": {},
   "outputs": [],
   "source": [
    "import random\n",
    "random_num=random.randint(1,20)\n",
    "\"\"\"print(random_num)\"\"\"\n",
    "user_input=0\n",
    "while(int(user_input)!=random_num):\n",
    "    user_input=input()\n",
    "    \"\"\"print('False,try again!')\"\"\"\n",
    "print('Congratulations!')"
   ]
  },
  {
   "cell_type": "markdown",
   "metadata": {},
   "source": [
    "-----------------------------------------------------------------------------\n",
    "# Exercise 08\n",
    "Ask a sentence as input, then print the words in alphabetical order.\n",
    "Hint: look up how to split up a string"
   ]
  },
  {
   "cell_type": "code",
   "execution_count": null,
   "metadata": {},
   "outputs": [],
   "source": []
  },
  {
   "cell_type": "markdown",
   "metadata": {},
   "source": [
    "-----------------------------------------------------------------------------\n",
    "# Exercise 09\n",
    "Write a program using for loops to print a christmas tree of x lines high\n",
    "specified by the user.\n",
    "(use for loops)\n",
    "so for instance, a chrismas tree of 4 high should looks like this:\n",
    "\n",
    "```\n",
    "\n",
    "    *\n",
    "   ***\n",
    "  *****\n",
    " *******\n",
    "    |\n",
    "\n",
    "```\n",
    "\n",
    "hint: first combine strings into a variable before printing"
   ]
  },
  {
   "cell_type": "code",
   "execution_count": null,
   "metadata": {},
   "outputs": [],
   "source": [
    "user_input=input()\n",
    "height=int(user_input)\n",
    "star=\"*\"\n",
    "for i in range(1,height+1):\n",
    "    print(\" \"* (height-i)+ (star * (2*i-1)))\n",
    "    i = i+1\n",
    "print(\" \"*(height-1)+'')"
   ]
  },
  {
   "cell_type": "markdown",
   "metadata": {},
   "source": [
    "-----------------------------------------------------------------------------\n",
    "# Exercise 10\n",
    "Write a piece of code that prints the first $n$ numbers of the padovan sequence"
   ]
  },
  {
   "cell_type": "code",
   "execution_count": null,
   "metadata": {},
   "outputs": [],
   "source": []
  }
 ],
 "metadata": {
  "kernelspec": {
   "display_name": "Python 3",
   "language": "python",
   "name": "python3"
  },
  "language_info": {
   "codemirror_mode": {
    "name": "ipython",
    "version": 3
   },
   "file_extension": ".py",
   "mimetype": "text/x-python",
   "name": "python",
   "nbconvert_exporter": "python",
   "pygments_lexer": "ipython3",
   "version": "3.8.5"
  }
 },
 "nbformat": 4,
 "nbformat_minor": 5
}
